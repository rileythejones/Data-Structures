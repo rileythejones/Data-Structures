{
 "cells": [
  {
   "cell_type": "code",
   "execution_count": 4,
   "metadata": {},
   "outputs": [],
   "source": [
    "class ListNode:\n",
    "    def __init__(self, value, prev=None, next=None):\n",
    "        self.value = value\n",
    "        self.prev = prev\n",
    "        self.next = next\n",
    "\n",
    "    def insert_after(self, value):\n",
    "        current_next = self.next\n",
    "        self.next = ListNode(value, self, current_next)\n",
    "        if current_next:\n",
    "            current_next.prev = self.next\n",
    "\n",
    "    def insert_before(self, value):\n",
    "        current_prev = self.prev\n",
    "        self.prev = ListNode(value, current_prev, self)\n",
    "        if current_prev:\n",
    "            current_prev.next = self.prev\n",
    "\n",
    "    def delete(self):\n",
    "        if self.prev:\n",
    "            self.prev.next = self.next\n",
    "        if self.next:\n",
    "            self.next.prev = self.prev\n",
    "\n",
    "class DoublyLinkedList:\n",
    "    def __init__(self, node=None):\n",
    "        self.head = node\n",
    "        self.tail = node\n",
    "        self.length = 1 if node is not None else 0\n",
    "\n",
    "    def __len__(self):\n",
    "        return self.length\n",
    "\n",
    "    def add_to_head(self, value):\n",
    "        new_node = ListNode(value)\n",
    "        self.length += 1\n",
    "        if not self.head and not self.tail:\n",
    "            self.head = self.tail = new_node \n",
    "        else:\n",
    "            new_node.next = self.head\n",
    "            self.head.prev = new_node \n",
    "            self.head = new_node \n",
    "\n",
    "    def remove_from_head(self):\n",
    "        value = self.head.value\n",
    "        self.delete(self.head)\n",
    "        return value \n",
    "\n",
    "    def add_to_tail(self, value):\n",
    "        new_node = ListNode(value)\n",
    "        self.length += 1\n",
    "        if not self.head and not self.tail:\n",
    "            self.head = self.tail = new_node \n",
    "        else:\n",
    "            new_node.prev = self.tail\n",
    "            self.tail.next = new_node \n",
    "            self.tail = new_node\n",
    "\n",
    "    def remove_from_tail(self):\n",
    "        value = self.tail.value\n",
    "        self.delete(self.tail)\n",
    "        return value \n",
    "\n",
    "    def move_to_front(self, node):\n",
    "        if node is self.head:\n",
    "            return \n",
    "        self.add_to_head(node.value)\n",
    "        self.delete(node)\n",
    "        \n",
    "    def move_to_end(self, node):\n",
    "        if node is self.tail:\n",
    "            return \n",
    "        self.add_to_tail(node.value)\n",
    "        self.delete(node)\n",
    "\n",
    "    def delete(self, node):\n",
    "        self.length -= 1 \n",
    "        if self.head is self.tail: \n",
    "            self.head = self.tail = None\n",
    "        elif node is self.head:\n",
    "            self.head = node.next\n",
    "            node.delete()\n",
    "        elif node is self.tail:\n",
    "            self.tail = node.next\n",
    "            node.delete()\n",
    "        else:\n",
    "            node.delete()\n",
    "\n",
    "    def get_max(self):\n",
    "        current = self.head \n",
    "        max = self.head.value\n",
    "        while(current is not None):\n",
    "            if current.value > max: \n",
    "                max = current.value\n",
    "            current = current.next \n",
    "        return max "
   ]
  },
  {
   "cell_type": "code",
   "execution_count": 5,
   "metadata": {},
   "outputs": [],
   "source": [
    "class Stack:\n",
    "    def __init__(self):\n",
    "        self.size = 0\n",
    "        # Why is our DLL a good choice to store our elements?\n",
    "        self.storage = DoublyLinkedList()\n",
    "\n",
    "    def push(self, value):\n",
    "        self.size += 1\n",
    "        self.storage.add_to_head(value)\n",
    "    \n",
    "    def pop(self):\n",
    "        \n",
    "        if self.size is 0:\n",
    "            return None\n",
    "        self.size -= 1\n",
    "        return self.storage.remove_from_head()\n",
    "         \n",
    "\n",
    "    def len(self):\n",
    "        return len(self.storage)"
   ]
  },
  {
   "cell_type": "code",
   "execution_count": 7,
   "metadata": {},
   "outputs": [],
   "source": [
    "class Queue:\n",
    "    def __init__(self):\n",
    "        self.size = 0\n",
    "        # Why is our DLL a good choice to store our elements?\n",
    "        \n",
    "        self.storage = DoublyLinkedList()\n",
    "\n",
    "    def enqueue(self, value):\n",
    "        self.size += 1\n",
    "        self.storage.add_to_tail(value)\n",
    "\n",
    "    def dequeue(self):\n",
    "        if self.size is 0:\n",
    "            return None\n",
    "        self.size -= 1\n",
    "        return self.storage.remove_from_head()\n",
    "\n",
    "    def len(self):\n",
    "        return len(self.storage)"
   ]
  },
  {
   "cell_type": "code",
   "execution_count": 320,
   "metadata": {},
   "outputs": [],
   "source": [
    "class BinarySearchTree:\n",
    "    def __init__(self, value):\n",
    "        self.value = value\n",
    "        self.left = None\n",
    "        self.right = None\n",
    "\n",
    "    def insert(self, value):\n",
    "        if value < self.value:\n",
    "\n",
    "            if self.left:\n",
    "                self.left.insert(value)\n",
    "            else: \n",
    "                self.left = BinarySearchTree(value)\n",
    "\n",
    "        else:\n",
    "            if self.right:\n",
    "                self.right.insert(value)\n",
    "            else:\n",
    "                self.right = BinarySearchTree(value)\n",
    "\n",
    "    # Return True if the tree contains the value\n",
    "    # False if it does not \n",
    "    def contains(self, target):\n",
    "        if self.value is target:\n",
    "            return True\n",
    "        elif self.value < target:\n",
    "            if self.right is None:\n",
    "                return False\n",
    "            else:\n",
    "                return BinarySearchTree.contains(self.right, target)\n",
    "        else:\n",
    "            if self.left is None:\n",
    "                return False\n",
    "            else:\n",
    "                return BinarySearchTree.contains(self.left, target)\n",
    "\n",
    "    \n",
    "#     def contains(self, target):\n",
    "#         if self.value is target:\n",
    "#             print(\"Check Node\")\n",
    "#             return True \n",
    "#         elif self.left:\n",
    "#             print(\"Check Left\")\n",
    "#             if self.left.value is target:\n",
    "#                 print(\"Check Left Node\")\n",
    "#                 return True\n",
    "#             elif self.left.contains(target):\n",
    "#                 print(\"Call contains on Left Node\")\n",
    "#                 return True\n",
    "#             elif self.right:\n",
    "#                 print(\"Check Right within Left\")\n",
    "#                 if self.right.contains(target):\n",
    "#                     print(\"Call contains on Right Node within Left Node\")\n",
    "#                     return True\n",
    "\n",
    "#         elif self.right:\n",
    "#             print(\"Check Right\")\n",
    "#             if self.right.value is target:\n",
    "#                 print(\"Check Right Node\")\n",
    "#                 return True\n",
    "#             elif self.right.contains(target):\n",
    "#                 print(\"Call contains on Right Node\")\n",
    "#                 return True\n",
    "#             elif self.left: \n",
    "#                 print(\"Check Left within Right\")\n",
    "#                 if self.left.contains(target):\n",
    "#                     print(\"Call contains on Left Node within Right Node\")\n",
    "#                     return True\n",
    "#         else:\n",
    "#             return False \n",
    "#             print(\"Return when not found\")\n",
    "#             return False \n",
    "\n",
    "\n",
    "    # Return the maximum value found in the tree\n",
    "    def get_max(self):\n",
    "        pass\n",
    "\n",
    "    # Call the function `cb` on the value of each node\n",
    "    # You may use a recursive or iterative approach\n",
    "    def for_each(self, cb):\n",
    "        pass\n",
    "\n",
    "    # DAY 2 Project -----------------------\n",
    "\n",
    "    # Print all the values in order from low to high\n",
    "    # Hint:  Use a recursive, depth first traversal\n",
    "    def in_order_print(self, node):\n",
    "        pass\n",
    "\n",
    "    # Print the value of every node, starting with the given node,\n",
    "    # in an iterative breadth first traversal\n",
    "    def bft_print(self, node):\n",
    "        pass\n",
    "\n",
    "    # Print the value of every node, starting with the given node,\n",
    "    # in an iterative depth first traversal\n",
    "    def dft_print(self, node):\n",
    "        pass\n",
    "\n",
    "    # STRETCH Goals -------------------------\n",
    "    # Note: Research may be required\n",
    "\n",
    "    # Print Pre-order recursive DFT\n",
    "    def pre_order_dft(self, node):\n",
    "        pass\n",
    "\n",
    "    # Print Post-order recursive DFT\n",
    "    def post_order_dft(self, node):\n",
    "        pass"
   ]
  },
  {
   "cell_type": "code",
   "execution_count": 321,
   "metadata": {},
   "outputs": [],
   "source": [
    "BST = BinarySearchTree(10)"
   ]
  },
  {
   "cell_type": "code",
   "execution_count": 322,
   "metadata": {},
   "outputs": [],
   "source": [
    "BST.insert(5)"
   ]
  },
  {
   "cell_type": "code",
   "execution_count": 323,
   "metadata": {},
   "outputs": [
    {
     "data": {
      "text/plain": [
       "5"
      ]
     },
     "execution_count": 323,
     "metadata": {},
     "output_type": "execute_result"
    }
   ],
   "source": [
    "BST.left.value"
   ]
  },
  {
   "cell_type": "code",
   "execution_count": 324,
   "metadata": {},
   "outputs": [],
   "source": [
    "BST.insert(7)"
   ]
  },
  {
   "cell_type": "code",
   "execution_count": 325,
   "metadata": {},
   "outputs": [
    {
     "data": {
      "text/plain": [
       "7"
      ]
     },
     "execution_count": 325,
     "metadata": {},
     "output_type": "execute_result"
    }
   ],
   "source": [
    "BST.left.right.value"
   ]
  },
  {
   "cell_type": "code",
   "execution_count": 326,
   "metadata": {},
   "outputs": [],
   "source": [
    "BST.insert(15)"
   ]
  },
  {
   "cell_type": "code",
   "execution_count": 327,
   "metadata": {},
   "outputs": [
    {
     "data": {
      "text/plain": [
       "15"
      ]
     },
     "execution_count": 327,
     "metadata": {},
     "output_type": "execute_result"
    }
   ],
   "source": [
    "BST.right.value"
   ]
  },
  {
   "cell_type": "code",
   "execution_count": 328,
   "metadata": {},
   "outputs": [],
   "source": [
    "BST.insert(18)"
   ]
  },
  {
   "cell_type": "code",
   "execution_count": 329,
   "metadata": {},
   "outputs": [
    {
     "data": {
      "text/plain": [
       "15"
      ]
     },
     "execution_count": 329,
     "metadata": {},
     "output_type": "execute_result"
    }
   ],
   "source": [
    "BST.right.value"
   ]
  },
  {
   "cell_type": "code",
   "execution_count": 330,
   "metadata": {},
   "outputs": [
    {
     "data": {
      "text/plain": [
       "18"
      ]
     },
     "execution_count": 330,
     "metadata": {},
     "output_type": "execute_result"
    }
   ],
   "source": [
    "BST.right.right.value"
   ]
  },
  {
   "cell_type": "code",
   "execution_count": 331,
   "metadata": {},
   "outputs": [],
   "source": [
    "BST.insert(11)"
   ]
  },
  {
   "cell_type": "code",
   "execution_count": 332,
   "metadata": {},
   "outputs": [
    {
     "data": {
      "text/plain": [
       "11"
      ]
     },
     "execution_count": 332,
     "metadata": {},
     "output_type": "execute_result"
    }
   ],
   "source": [
    "BST.right.left.value"
   ]
  },
  {
   "cell_type": "code",
   "execution_count": 333,
   "metadata": {},
   "outputs": [
    {
     "data": {
      "text/plain": [
       "True"
      ]
     },
     "execution_count": 333,
     "metadata": {},
     "output_type": "execute_result"
    }
   ],
   "source": [
    "BST.contains(18)"
   ]
  },
  {
   "cell_type": "code",
   "execution_count": 334,
   "metadata": {},
   "outputs": [
    {
     "data": {
      "text/plain": [
       "False"
      ]
     },
     "execution_count": 334,
     "metadata": {},
     "output_type": "execute_result"
    }
   ],
   "source": [
    "BST.contains(100)"
   ]
  },
  {
   "cell_type": "code",
   "execution_count": null,
   "metadata": {},
   "outputs": [],
   "source": []
  },
  {
   "cell_type": "code",
   "execution_count": null,
   "metadata": {},
   "outputs": [],
   "source": []
  }
 ],
 "metadata": {
  "kernelspec": {
   "display_name": "Python 3",
   "language": "python",
   "name": "python3"
  },
  "language_info": {
   "codemirror_mode": {
    "name": "ipython",
    "version": 3
   },
   "file_extension": ".py",
   "mimetype": "text/x-python",
   "name": "python",
   "nbconvert_exporter": "python",
   "pygments_lexer": "ipython3",
   "version": "3.7.4"
  }
 },
 "nbformat": 4,
 "nbformat_minor": 4
}
